{
 "cells": [
  {
   "cell_type": "markdown",
   "metadata": {},
   "source": [
    "# Inference and Validation\n",
    "\n",
    "Now that you have a trained network, you can use it for making predictions. This is typically called **inference**, a term borrowed from statistics. However, neural networks have a tendency to perform *too well* on the training data and aren't able to generalize to data that hasn't been seen before. This is called **overfitting** and it impairs inference performance. To test for overfitting while training, we measure the performance on data not in the training set called the **validation** set. We avoid overfitting through regularization such as dropout while monitoring the validation performance during training. In this notebook, I'll show you how to do this in PyTorch. \n",
    "\n",
    "As usual, let's start by loading the dataset through torchvision. You'll learn more about torchvision and loading data in a later part. This time we'll be taking advantage of the test set which you can get by setting `train=False` here:\n",
    "\n",
    "```python\n",
    "testset = datasets.FashionMNIST('~/.pytorch/F_MNIST_data/', download=True, train=False, transform=transform)\n",
    "```\n",
    "\n",
    "The test set contains images just like the training set. Typically you'll see 10-20% of the original dataset held out for testing and validation with the rest being used for training."
   ]
  },
  {
   "cell_type": "code",
   "execution_count": 35,
   "metadata": {},
   "outputs": [],
   "source": [
    "import torch\n",
    "from torchvision import datasets, transforms\n",
    "\n",
    "# Define a transform to normalize the data\n",
    "transform = transforms.Compose([transforms.ToTensor(),\n",
    "                                transforms.Normalize((0.5,), (0.5,))])\n",
    "# Download and load the training data\n",
    "trainset = datasets.FashionMNIST('~/.pytorch/F_MNIST_data/', download=True, train=True, transform=transform)\n",
    "trainloader = torch.utils.data.DataLoader(trainset, batch_size=64, shuffle=True)\n",
    "\n",
    "# Download and load the test data\n",
    "testset = datasets.FashionMNIST('~/.pytorch/F_MNIST_data/', download=True, train=False, transform=transform)\n",
    "testloader = torch.utils.data.DataLoader(testset, batch_size=64, shuffle=True)"
   ]
  },
  {
   "cell_type": "markdown",
   "metadata": {},
   "source": [
    "Here I'll create a model like normal, using the same one from my solution for part 4."
   ]
  },
  {
   "cell_type": "code",
   "execution_count": 36,
   "metadata": {},
   "outputs": [],
   "source": [
    "from torch import nn, optim\n",
    "import torch.nn.functional as F\n",
    "\n",
    "class Classifier(nn.Module):\n",
    "    def __init__(self):\n",
    "        super().__init__()\n",
    "        self.fc1 = nn.Linear(784, 256)\n",
    "        self.fc2 = nn.Linear(256, 128)\n",
    "        self.fc3 = nn.Linear(128, 64)\n",
    "        self.fc4 = nn.Linear(64, 10)\n",
    "        \n",
    "    def forward(self, x):\n",
    "        # make sure input tensor is flattened\n",
    "        x = x.view(x.shape[0], -1)\n",
    "        \n",
    "        x = F.relu(self.fc1(x))\n",
    "        x = F.relu(self.fc2(x))\n",
    "        x = F.relu(self.fc3(x))\n",
    "        x = F.log_softmax(self.fc4(x), dim=1)\n",
    "        \n",
    "        return x"
   ]
  },
  {
   "cell_type": "markdown",
   "metadata": {},
   "source": [
    "The goal of validation is to measure the model's performance on data that isn't part of the training set. Performance here is up to the developer to define though. Typically this is just accuracy, the percentage of classes the network predicted correctly. Other options are [precision and recall](https://en.wikipedia.org/wiki/Precision_and_recall#Definition_(classification_context)) and top-5 error rate. We'll focus on accuracy here. First I'll do a forward pass with one batch from the test set."
   ]
  },
  {
   "cell_type": "code",
   "execution_count": 37,
   "metadata": {},
   "outputs": [
    {
     "name": "stdout",
     "output_type": "stream",
     "text": [
      "torch.Size([64, 10])\n"
     ]
    }
   ],
   "source": [
    "model = Classifier()\n",
    "\n",
    "images, labels = next(iter(testloader))\n",
    "# Get the class probabilities\n",
    "ps = torch.exp(model(images))\n",
    "# Make sure the shape is appropriate, we should get 10 class probabilities for 64 examples\n",
    "print(ps.shape)"
   ]
  },
  {
   "cell_type": "markdown",
   "metadata": {},
   "source": [
    "With the probabilities, we can get the most likely class using the `ps.topk` method. This returns the $k$ highest values. Since we just want the most likely class, we can use `ps.topk(1)`. This returns a tuple of the top-$k$ values and the top-$k$ indices. If the highest value is the fifth element, we'll get back 4 as the index."
   ]
  },
  {
   "cell_type": "code",
   "execution_count": 38,
   "metadata": {},
   "outputs": [
    {
     "name": "stdout",
     "output_type": "stream",
     "text": [
      "tensor([[3],\n",
      "        [3],\n",
      "        [3],\n",
      "        [3],\n",
      "        [3],\n",
      "        [3],\n",
      "        [3],\n",
      "        [3],\n",
      "        [3],\n",
      "        [3]])\n"
     ]
    }
   ],
   "source": [
    "top_p, top_class = ps.topk(1, dim=1)\n",
    "# Look at the most likely classes for the first 10 examples\n",
    "print(top_class[:10,:])"
   ]
  },
  {
   "cell_type": "markdown",
   "metadata": {},
   "source": [
    "Now we can check if the predicted classes match the labels. This is simple to do by equating `top_class` and `labels`, but we have to be careful of the shapes. Here `top_class` is a 2D tensor with shape `(64, 1)` while `labels` is 1D with shape `(64)`. To get the equality to work out the way we want, `top_class` and `labels` must have the same shape.\n",
    "\n",
    "If we do\n",
    "\n",
    "```python\n",
    "equals = top_class == labels\n",
    "```\n",
    "\n",
    "`equals` will have shape `(64, 64)`, try it yourself. What it's doing is comparing the one element in each row of `top_class` with each element in `labels` which returns 64 True/False boolean values for each row."
   ]
  },
  {
   "cell_type": "code",
   "execution_count": 39,
   "metadata": {},
   "outputs": [],
   "source": [
    "equals = top_class == labels.view(*top_class.shape)"
   ]
  },
  {
   "cell_type": "markdown",
   "metadata": {},
   "source": [
    "Now we need to calculate the percentage of correct predictions. `equals` has binary values, either 0 or 1. This means that if we just sum up all the values and divide by the number of values, we get the percentage of correct predictions. This is the same operation as taking the mean, so we can get the accuracy with a call to `torch.mean`. If only it was that simple. If you try `torch.mean(equals)`, you'll get an error\n",
    "\n",
    "```\n",
    "RuntimeError: mean is not implemented for type torch.ByteTensor\n",
    "```\n",
    "\n",
    "This happens because `equals` has type `torch.ByteTensor` but `torch.mean` isn't implemented for tensors with that type. So we'll need to convert `equals` to a float tensor. Note that when we take `torch.mean` it returns a scalar tensor, to get the actual value as a float we'll need to do `accuracy.item()`."
   ]
  },
  {
   "cell_type": "code",
   "execution_count": 40,
   "metadata": {},
   "outputs": [
    {
     "name": "stdout",
     "output_type": "stream",
     "text": [
      "Accuracy: 12.5%\n"
     ]
    }
   ],
   "source": [
    "accuracy = torch.mean(equals.type(torch.FloatTensor))\n",
    "print(f'Accuracy: {accuracy.item()*100}%')"
   ]
  },
  {
   "cell_type": "markdown",
   "metadata": {},
   "source": [
    "The network is untrained so it's making random guesses and we should see an accuracy around 10%. Now let's train our network and include our validation pass so we can measure how well the network is performing on the test set. Since we're not updating our parameters in the validation pass, we can speed up our code by turning off gradients using `torch.no_grad()`:\n",
    "\n",
    "```python\n",
    "# turn off gradients\n",
    "with torch.no_grad():\n",
    "    # validation pass here\n",
    "    for images, labels in testloader:\n",
    "        ...\n",
    "```\n",
    "\n",
    ">**Exercise:** Implement the validation loop below and print out the total accuracy after the loop. You can largely copy and paste the code from above, but I suggest typing it in because writing it out yourself is essential for building the skill. In general you'll always learn more by typing it rather than copy-pasting. You should be able to get an accuracy above 80%."
   ]
  },
  {
   "cell_type": "code",
   "execution_count": 21,
   "metadata": {},
   "outputs": [
    {
     "name": "stdout",
     "output_type": "stream",
     "text": [
      "Epoch: 0/30\n",
      "Train Loss: 0.5142893409932346\n",
      "Test Loss: 0.4832530438330523\n",
      "Accuracy: 82.71297454833984%\n",
      "Epoch: 1/30\n",
      "Train Loss: 0.39360785182478075\n",
      "Test Loss: 0.4474674060845831\n",
      "Accuracy: 83.55891418457031%\n",
      "Epoch: 2/30\n",
      "Train Loss: 0.35546562460058534\n",
      "Test Loss: 0.38856440051725716\n",
      "Accuracy: 85.58917236328125%\n",
      "Epoch: 3/30\n",
      "Train Loss: 0.33067186937721044\n",
      "Test Loss: 0.37247492439427954\n",
      "Accuracy: 86.94267272949219%\n",
      "Epoch: 4/30\n",
      "Train Loss: 0.31547994382663574\n",
      "Test Loss: 0.37865788992612986\n",
      "Accuracy: 87.04219818115234%\n",
      "Epoch: 5/30\n",
      "Train Loss: 0.3052168534969343\n",
      "Test Loss: 0.38302217575774833\n",
      "Accuracy: 86.31568145751953%\n",
      "Epoch: 6/30\n",
      "Train Loss: 0.2924587699666079\n",
      "Test Loss: 0.3909105020723525\n",
      "Accuracy: 86.51473236083984%\n",
      "Epoch: 7/30\n",
      "Train Loss: 0.28032770524146966\n",
      "Test Loss: 0.4004333860650184\n",
      "Accuracy: 86.59434509277344%\n",
      "Epoch: 8/30\n",
      "Train Loss: 0.27277909764555347\n",
      "Test Loss: 0.35946752387247266\n",
      "Accuracy: 87.5%\n",
      "Epoch: 9/30\n",
      "Train Loss: 0.2635533978928254\n",
      "Test Loss: 0.35793354177171255\n",
      "Accuracy: 87.85828399658203%\n",
      "Epoch: 10/30\n",
      "Train Loss: 0.26112554406624106\n",
      "Test Loss: 0.3754368878094254\n",
      "Accuracy: 87.10191345214844%\n",
      "Epoch: 11/30\n",
      "Train Loss: 0.25064958172884066\n",
      "Test Loss: 0.37346898982669136\n",
      "Accuracy: 88.0871810913086%\n",
      "Epoch: 12/30\n",
      "Train Loss: 0.24651512916662546\n",
      "Test Loss: 0.35432307080478426\n",
      "Accuracy: 88.04737091064453%\n",
      "Epoch: 13/30\n",
      "Train Loss: 0.23893534093459787\n",
      "Test Loss: 0.36500333591251616\n",
      "Accuracy: 87.76870727539062%\n",
      "Epoch: 14/30\n",
      "Train Loss: 0.2352466085302169\n",
      "Test Loss: 0.3585425958417024\n",
      "Accuracy: 88.2563705444336%\n",
      "Epoch: 15/30\n",
      "Train Loss: 0.2306687970048011\n",
      "Test Loss: 0.34848228993879005\n",
      "Accuracy: 88.6146469116211%\n",
      "Epoch: 16/30\n",
      "Train Loss: 0.22438752643668702\n",
      "Test Loss: 0.3869321433127306\n",
      "Accuracy: 87.3905258178711%\n",
      "Epoch: 17/30\n",
      "Train Loss: 0.22822710432445825\n",
      "Test Loss: 0.38267010061224555\n",
      "Accuracy: 87.99761199951172%\n",
      "Epoch: 18/30\n",
      "Train Loss: 0.21574934379759628\n",
      "Test Loss: 0.3919322279038703\n",
      "Accuracy: 88.1966552734375%\n",
      "Epoch: 19/30\n",
      "Train Loss: 0.21316728831878476\n",
      "Test Loss: 0.3874873878659716\n",
      "Accuracy: 88.21656036376953%\n",
      "Epoch: 20/30\n",
      "Train Loss: 0.20929333939751202\n",
      "Test Loss: 0.3857370155157557\n",
      "Accuracy: 88.37579345703125%\n",
      "Epoch: 21/30\n",
      "Train Loss: 0.2055553254752811\n",
      "Test Loss: 0.3904556860779501\n",
      "Accuracy: 88.56488800048828%\n",
      "Epoch: 22/30\n",
      "Train Loss: 0.20817133826392292\n",
      "Test Loss: 0.37103633625302346\n",
      "Accuracy: 88.40565490722656%\n",
      "Epoch: 23/30\n",
      "Train Loss: 0.19890077420468652\n",
      "Test Loss: 0.3766102557349357\n",
      "Accuracy: 88.6146469116211%\n",
      "Epoch: 24/30\n",
      "Train Loss: 0.19821930229703563\n",
      "Test Loss: 0.3980574440329697\n",
      "Accuracy: 88.73407745361328%\n",
      "Epoch: 25/30\n",
      "Train Loss: 0.1952779570669889\n",
      "Test Loss: 0.4409708585234205\n",
      "Accuracy: 88.26631927490234%\n",
      "Epoch: 26/30\n",
      "Train Loss: 0.19185623791473888\n",
      "Test Loss: 0.39208674060690935\n",
      "Accuracy: 88.29618072509766%\n",
      "Epoch: 27/30\n",
      "Train Loss: 0.18683888534230908\n",
      "Test Loss: 0.43165342614149593\n",
      "Accuracy: 88.28622436523438%\n",
      "Epoch: 28/30\n",
      "Train Loss: 0.18735422829249457\n",
      "Test Loss: 0.4224392156692068\n",
      "Accuracy: 87.84832763671875%\n",
      "Epoch: 29/30\n",
      "Train Loss: 0.18673608384168605\n",
      "Test Loss: 0.38781807889604264\n",
      "Accuracy: 88.893310546875%\n"
     ]
    }
   ],
   "source": [
    "model = Classifier()\n",
    "criterion = nn.NLLLoss()\n",
    "optimizer = optim.Adam(model.parameters(), lr=0.003)\n",
    "\n",
    "epochs = 30\n",
    "\n",
    "train_losses, test_losses = [], []\n",
    "for e in range(epochs):\n",
    "    running_loss = 0\n",
    "    for images, labels in trainloader:\n",
    "        \n",
    "        optimizer.zero_grad()\n",
    "        \n",
    "        log_ps = model(images)\n",
    "        loss = criterion(log_ps, labels)\n",
    "        loss.backward()\n",
    "        optimizer.step()\n",
    "        \n",
    "        running_loss += loss.item()\n",
    "        \n",
    "    else:\n",
    "        ## TODO: Implement the validation pass and print out the validation accuracy\n",
    "        accuracy = 0\n",
    "        test_loss = 0\n",
    "        with torch.no_grad():\n",
    "            for images, labels in testloader:\n",
    "                log_ps = model(images)\n",
    "                test_loss += criterion(log_ps, labels).item()\n",
    "                \n",
    "                _, top_class = log_ps.topk(1, dim=1)\n",
    "                equals = top_class == labels.view(*top_class.shape)\n",
    "                accuracy += torch.mean(equals.type(torch.FloatTensor))\n",
    "\n",
    "        train_losses.append(running_loss / len(trainloader))\n",
    "        test_losses.append(test_loss / len(testloader))\n",
    "        \n",
    "        print(f'Epoch: {e+1}/{epochs}')\n",
    "        print(f'Train Loss: {running_loss/len(trainloader)}')\n",
    "        print(f'Test Loss: {test_loss/len(testloader)}')\n",
    "        print(f'Accuracy: {accuracy*100/len(testloader)}%')"
   ]
  },
  {
   "cell_type": "code",
   "execution_count": 22,
   "metadata": {},
   "outputs": [
    {
     "data": {
      "text/plain": [
       "<matplotlib.legend.Legend at 0x7f870184bf10>"
      ]
     },
     "execution_count": 22,
     "metadata": {},
     "output_type": "execute_result"
    },
    {
     "data": {
      "image/png": "[encoded data removed]",
      "text/plain": [
       "<Figure size 432x288 with 1 Axes>"
      ]
     },
     "metadata": {
      "needs_background": "light"
     },
     "output_type": "display_data"
    }
   ],
   "source": [
    "%matplotlib inline\n",
    "import matplotlib.pyplot as plt\n",
    "\n",
    "plt.plot(train_losses, label=\"Training loss\")\n",
    "plt.plot(test_losses, label=\"Validation loss\")\n",
    "plt.legend(frameon=False)"
   ]
  },
  {
   "cell_type": "markdown",
   "metadata": {},
   "source": [
    "## Overfitting\n",
    "\n",
    "If we look at the training and validation losses as we train the network, we can see a phenomenon known as overfitting.\n",
    "\n",
    "<img src='assets/overfitting.png' width=450px>\n",
    "\n",
    "The network learns the training set better and better, resulting in lower training losses. However, it starts having problems generalizing to data outside the training set leading to the validation loss increasing. The ultimate goal of any deep learning model is to make predictions on new data, so we should strive to get the lowest validation loss possible. One option is to use the version of the model with the lowest validation loss, here the one around 8-10 training epochs. This strategy is called *early-stopping*. In practice, you'd save the model frequently as you're training then later choose the model with the lowest validation loss.\n",
    "\n",
    "The most common method to reduce overfitting (outside of early-stopping) is *dropout*, where we randomly drop input units. This forces the network to share information between weights, increasing it's ability to generalize to new data. Adding dropout in PyTorch is straightforward using the [`nn.Dropout`](https://pytorch.org/docs/stable/nn.html#torch.nn.Dropout) module.\n",
    "\n",
    "```python\n",
    "class Classifier(nn.Module):\n",
    "    def __init__(self):\n",
    "        super().__init__()\n",
    "        self.fc1 = nn.Linear(784, 256)\n",
    "        self.fc2 = nn.Linear(256, 128)\n",
    "        self.fc3 = nn.Linear(128, 64)\n",
    "        self.fc4 = nn.Linear(64, 10)\n",
    "        \n",
    "        # Dropout module with 0.2 drop probability\n",
    "        self.dropout = nn.Dropout(p=0.2)\n",
    "        \n",
    "    def forward(self, x):\n",
    "        # make sure input tensor is flattened\n",
    "        x = x.view(x.shape[0], -1)\n",
    "        \n",
    "        # Now with dropout\n",
    "        x = self.dropout(F.relu(self.fc1(x)))\n",
    "        x = self.dropout(F.relu(self.fc2(x)))\n",
    "        x = self.dropout(F.relu(self.fc3(x)))\n",
    "        \n",
    "        # output so no dropout here\n",
    "        x = F.log_softmax(self.fc4(x), dim=1)\n",
    "        \n",
    "        return x\n",
    "```\n",
    "\n",
    "During training we want to use dropout to prevent overfitting, but during inference we want to use the entire network. So, we need to turn off dropout during validation, testing, and whenever we're using the network to make predictions. To do this, you use `model.eval()`. This sets the model to evaluation mode where the dropout probability is 0. You can turn dropout back on by setting the model to train mode with `model.train()`. In general, the pattern for the validation loop will look like this, where you turn off gradients, set the model to evaluation mode, calculate the validation loss and metric, then set the model back to train mode.\n",
    "\n",
    "```python\n",
    "# turn off gradients\n",
    "with torch.no_grad():\n",
    "    \n",
    "    # set model to evaluation mode\n",
    "    model.eval()\n",
    "    \n",
    "    # validation pass here\n",
    "    for images, labels in testloader:\n",
    "        ...\n",
    "\n",
    "# set model back to train mode\n",
    "model.train()\n",
    "```"
   ]
  },
  {
   "cell_type": "markdown",
   "metadata": {},
   "source": [
    "> **Exercise:** Add dropout to your model and train it on Fashion-MNIST again. See if you can get a lower validation loss or higher accuracy."
   ]
  },
  {
   "cell_type": "code",
   "execution_count": 41,
   "metadata": {},
   "outputs": [],
   "source": [
    "## TODO: Define your model with dropout added\n",
    "class DropoutClassifier(nn.Module):\n",
    "    def __init__(self):\n",
    "        super().__init__()\n",
    "        \n",
    "        self.fc1 = nn.Linear(784, 256)\n",
    "        self.fc2 = nn.Linear(256, 128)\n",
    "        self.fc3 = nn.Linear(128, 64)\n",
    "        self.fc4 = nn.Linear(64, 10)\n",
    "        \n",
    "        self.dropout = nn.Dropout(p=0.2)\n",
    "    \n",
    "    def forward(self, x):\n",
    "        x = x.view(x.shape[0], -1)\n",
    "        x = self.dropout(F.relu(self.fc1(x)))\n",
    "        x = self.dropout(F.relu(self.fc2(x)))\n",
    "        x = self.dropout(F.relu(self.fc3(x)))\n",
    "        return F.log_softmax(self.fc4(x), dim=1)\n",
    "        "
   ]
  },
  {
   "cell_type": "code",
   "execution_count": 47,
   "metadata": {},
   "outputs": [
    {
     "name": "stdout",
     "output_type": "stream",
     "text": [
      "Epoch: 1/30\n",
      "Train loss: 0.5925694613981602\n",
      "Test loss: 0.4738808574190565\n",
      "Accuracy: 82.50398254394531\n",
      "Epoch: 2/30\n",
      "Train loss: 0.4339567674026052\n",
      "Test loss: 0.41189903633040226\n",
      "Accuracy: 85.06170654296875\n",
      "Epoch: 3/30\n",
      "Train loss: 0.3929491622854016\n",
      "Test loss: 0.39741260088553093\n",
      "Accuracy: 85.79817199707031\n",
      "Epoch: 4/30\n",
      "Train loss: 0.3692168329697428\n",
      "Test loss: 0.3976004078130054\n",
      "Accuracy: 85.40007781982422\n",
      "Epoch: 5/30\n",
      "Train loss: 0.3509199028171456\n",
      "Test loss: 0.3687841724248449\n",
      "Accuracy: 86.32563781738281\n",
      "Epoch: 6/30\n",
      "Train loss: 0.34143191933441264\n",
      "Test loss: 0.3515422291531684\n",
      "Accuracy: 87.49005126953125\n",
      "Epoch: 7/30\n",
      "Train loss: 0.3282512782383829\n",
      "Test loss: 0.3480144025413853\n",
      "Accuracy: 87.41043090820312\n",
      "Epoch: 8/30\n",
      "Train loss: 0.3178895039599079\n",
      "Test loss: 0.356197096739605\n",
      "Accuracy: 87.69904327392578\n",
      "Epoch: 9/30\n",
      "Train loss: 0.31111164711145706\n",
      "Test loss: 0.34513334635716336\n",
      "Accuracy: 87.63932800292969\n",
      "Epoch: 10/30\n",
      "Train loss: 0.3009645766509113\n",
      "Test loss: 0.3352028812002984\n",
      "Accuracy: 87.87818145751953\n",
      "Epoch: 11/30\n",
      "Train loss: 0.298420300623819\n",
      "Test loss: 0.33715781412876333\n",
      "Accuracy: 87.76870727539062\n",
      "Epoch: 12/30\n",
      "Train loss: 0.2901577116695167\n",
      "Test loss: 0.343277417597877\n",
      "Accuracy: 88.21656036376953\n",
      "Epoch: 13/30\n",
      "Train loss: 0.28445372817867093\n",
      "Test loss: 0.33397645351423577\n",
      "Accuracy: 88.24641418457031\n",
      "Epoch: 14/30\n",
      "Train loss: 0.27931850129512076\n",
      "Test loss: 0.3292550478771234\n",
      "Accuracy: 88.8136978149414\n",
      "Epoch: 15/30\n",
      "Train loss: 0.27539370646640693\n",
      "Test loss: 0.3298435481680427\n",
      "Accuracy: 88.38574981689453\n",
      "Epoch: 16/30\n",
      "Train loss: 0.27122031331761304\n",
      "Test loss: 0.3271699334215966\n",
      "Accuracy: 88.28622436523438\n",
      "Epoch: 17/30\n",
      "Train loss: 0.2679767252754237\n",
      "Test loss: 0.3178808190355635\n",
      "Accuracy: 88.70421600341797\n",
      "Epoch: 18/30\n",
      "Train loss: 0.2630383081829497\n",
      "Test loss: 0.3312815903763103\n",
      "Accuracy: 88.67436218261719\n",
      "Epoch: 19/30\n",
      "Train loss: 0.2570048888315206\n",
      "Test loss: 0.320987348343916\n",
      "Accuracy: 88.73407745361328\n",
      "Epoch: 20/30\n",
      "Train loss: 0.25350610862599254\n",
      "Test loss: 0.3365522734583563\n",
      "Accuracy: 88.15684509277344\n",
      "Epoch: 21/30\n",
      "Train loss: 0.25169061808618526\n",
      "Test loss: 0.3362979326563276\n",
      "Accuracy: 88.6445083618164\n",
      "Epoch: 22/30\n",
      "Train loss: 0.24790452260261914\n",
      "Test loss: 0.33352561252322166\n",
      "Accuracy: 88.52507781982422\n",
      "Epoch: 23/30\n",
      "Train loss: 0.24468524554676846\n",
      "Test loss: 0.3254386606584689\n",
      "Accuracy: 88.93312072753906\n",
      "Epoch: 24/30\n",
      "Train loss: 0.23971767378831976\n",
      "Test loss: 0.32287367504493447\n",
      "Accuracy: 89.11225891113281\n",
      "Epoch: 25/30\n",
      "Train loss: 0.239898472500127\n",
      "Test loss: 0.3173738577088733\n",
      "Accuracy: 89.32125854492188\n",
      "Epoch: 26/30\n",
      "Train loss: 0.2363164463420031\n",
      "Test loss: 0.3291225633139064\n",
      "Accuracy: 88.96297454833984\n",
      "Epoch: 27/30\n",
      "Train loss: 0.23088019835288082\n",
      "Test loss: 0.33753646815278726\n",
      "Accuracy: 88.52507781982422\n",
      "Epoch: 28/30\n",
      "Train loss: 0.23100722251511585\n",
      "Test loss: 0.3298520321963699\n",
      "Accuracy: 89.13216400146484\n",
      "Epoch: 29/30\n",
      "Train loss: 0.22674941350973998\n",
      "Test loss: 0.32995556043401647\n",
      "Accuracy: 88.80374145507812\n",
      "Epoch: 30/30\n",
      "Train loss: 0.22483902749444631\n",
      "Test loss: 0.35893454450141093\n",
      "Accuracy: 88.50517272949219\n"
     ]
    }
   ],
   "source": [
    "## TODO: Train your model with dropout, and monitor the training progress with the validation loss and accuracy\n",
    "\n",
    "model = DropoutClassifier()\n",
    "criterion = nn.NLLLoss()\n",
    "optimizer = optim.Adam(model.parameters(), lr=0.001)\n",
    "\n",
    "num_epochs = 30\n",
    "train_losses = []\n",
    "test_losses = []\n",
    "\n",
    "for epoch in range(num_epochs):\n",
    "    train_loss = 0\n",
    "    for images, labels in trainloader:\n",
    "        optimizer.zero_grad()\n",
    "        \n",
    "        log_ps = model(images)\n",
    "        loss = criterion(log_ps, labels)\n",
    "        train_loss += loss.item()\n",
    "        \n",
    "        loss.backward()\n",
    "        optimizer.step()\n",
    "    \n",
    "    else:\n",
    "        test_loss = 0\n",
    "        accuracy = 0\n",
    "        with torch.no_grad():\n",
    "            model.eval()\n",
    "            \n",
    "            for images, labels in testloader:\n",
    "                log_ps = model(images)\n",
    "                loss = criterion(log_ps, labels)\n",
    "                test_loss += loss.item()\n",
    "                \n",
    "                _, top_class = log_ps.topk(1, dim=1)\n",
    "                equals = top_class == labels.view(*top_class.shape)\n",
    "                accuracy += torch.mean(equals.type(torch.FloatTensor))\n",
    "            \n",
    "        model.train()\n",
    "        train_losses.append(train_loss/len(trainloader))\n",
    "        test_losses.append(test_loss/len(testloader))\n",
    "        \n",
    "        print(f'Epoch: {epoch + 1}/{num_epochs}')\n",
    "        print(f'Train loss: {train_loss / len(trainloader)}')\n",
    "        print(f'Test loss: {test_loss / len(testloader)}')\n",
    "        print(f'Accuracy: {accuracy * 100 / len(testloader)}')"
   ]
  },
  {
   "cell_type": "code",
   "execution_count": 48,
   "metadata": {},
   "outputs": [
    {
     "data": {
      "text/plain": [
       "<matplotlib.legend.Legend at 0x7f8702cc28b0>"
      ]
     },
     "execution_count": 48,
     "metadata": {},
     "output_type": "execute_result"
    },
    {
     "data": {
      "image/png": "[encoded data removed]",
      "text/plain": [
       "<Figure size 432x288 with 1 Axes>"
      ]
     },
     "metadata": {
      "needs_background": "light"
     },
     "output_type": "display_data"
    }
   ],
   "source": [
    "%matplotlib inline\n",
    "import matplotlib.pyplot as plt\n",
    "\n",
    "plt.plot(train_losses, label=\"Training loss\")\n",
    "plt.plot(test_losses, label=\"Validation loss\")\n",
    "plt.legend(frameon=False)"
   ]
  },
  {
   "cell_type": "markdown",
   "metadata": {},
   "source": [
    "## Inference\n",
    "\n",
    "Now that the model is trained, we can use it for inference. We've done this before, but now we need to remember to set the model in inference mode with `model.eval()`. You'll also want to turn off autograd with the `torch.no_grad()` context."
   ]
  },
  {
   "cell_type": "code",
   "execution_count": 55,
   "metadata": {},
   "outputs": [
    {
     "data": {
      "image/png": "[encoded data removed]",
      "text/plain": [
       "<Figure size 432x648 with 2 Axes>"
      ]
     },
     "metadata": {
      "needs_background": "light"
     },
     "output_type": "display_data"
    }
   ],
   "source": [
    "# Import helper module (should be in the repo)\n",
    "import helper\n",
    "\n",
    "# Test out your network!\n",
    "\n",
    "model.eval()\n",
    "\n",
    "dataiter = iter(testloader)\n",
    "images, labels = dataiter.next()\n",
    "img = images[0]\n",
    "# Convert 2D image to 1D vector\n",
    "img = img.view(1, 784)\n",
    "\n",
    "# Calculate the class probabilities (softmax) for img\n",
    "with torch.no_grad():\n",
    "    output = model.forward(img)\n",
    "\n",
    "ps = torch.exp(output)\n",
    "\n",
    "# Plot the image and probabilities\n",
    "helper.view_classify(img.view(1, 28, 28), ps, version='Fashion')"
   ]
  },
  {
   "cell_type": "markdown",
   "metadata": {},
   "source": [
    "## Next Up!\n",
    "\n",
    "In the next part, I'll show you how to save your trained models. In general, you won't want to train a model everytime you need it. Instead, you'll train once, save it, then load the model when you want to train more or use if for inference."
   ]
  }
 ],
 "metadata": {
  "kernelspec": {
   "display_name": "Python 3",
   "language": "python",
   "name": "python3"
  },
  "language_info": {
   "codemirror_mode": {
    "name": "ipython",
    "version": 3
   },
   "file_extension": ".py",
   "mimetype": "text/x-python",
   "name": "python",
   "nbconvert_exporter": "python",
   "pygments_lexer": "ipython3",
   "version": "3.8.3"
  }
 },
 "nbformat": 4,
 "nbformat_minor": 2
}
